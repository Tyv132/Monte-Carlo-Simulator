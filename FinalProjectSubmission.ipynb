{
 "cells": [
  {
   "cell_type": "markdown",
   "id": "45762487-d33f-486d-8e38-2cdea04e3528",
   "metadata": {},
   "source": [
    "# Metadata\n",
    "\n",
    "* Title: **Final Project Report**\n",
    "* Class: DS 5100\n",
    "* Date: 7/15/2022\n",
    "* Student Name: Tyler Valentine\n",
    "* Student Net ID: xje4cy\n",
    "* This URL: <https://github.com/Tyv132/Monte-Carlo-Simulator/blob/main/FinalProjectSubmission.ipynb>\n",
    "* GitHub Repo URL: https://github.com/Tyv132/Monte-Carlo-Simulator"
   ]
  },
  {
   "cell_type": "markdown",
   "id": "d32cb273-9a40-4909-a7ce-51f6e4958d3c",
   "metadata": {},
   "source": [
    "# The Monte Carlo Module"
   ]
  },
  {
   "cell_type": "code",
   "execution_count": 1,
   "id": "a0743efc-a785-4b5c-a9e6-b65d4507a67f",
   "metadata": {
    "scrolled": true
   },
   "outputs": [],
   "source": [
    "import random\n",
    "import numpy as np\n",
    "import pandas as pd\n",
    "\n",
    "class Die: \n",
    "    '''\n",
    "    Creates a die with n faces and weights, which can be rolled to select a face.\n",
    "    Default value: 1.0 (float)     \n",
    "    '''\n",
    "    def __init__(self, faces):\n",
    "        '''\n",
    "        Input: faces (ndarray, str or floats) \n",
    "        '''\n",
    "        weight = {'Weight': [1.0]*len(faces)}                                  # initializes all weights = 1\n",
    "        self.__die = pd.DataFrame(weight, index = faces)                       # creates a private DataFrame for the die\n",
    "\n",
    "    def change_weight(self, face, new_weight):\n",
    "        '''\n",
    "        Changes the weight of a face on the die to be the value \"new_weight\".\n",
    "        Input: face (ndarray or list -str, int, or float), new_weight (float)\n",
    "        '''\n",
    "        if face in self.__die.index:\n",
    "            try: \n",
    "                self.__die.loc[face] = float(new_weight)                       # changes the weight at the index \"face\"\n",
    "            except:\n",
    "                raise ValueError('The new weight must be of type float.')      # raises an error if the weight cannot be converted to a float\n",
    "        else:\n",
    "            raise ValueError('This face is not on the die.')                   # raises an error if the input is not a \"face\" on the die\n",
    "    \n",
    "    def roll(self, n = 1):\n",
    "        '''\n",
    "        Choose \"n\" random faces on the die.\n",
    "        Input: n (int)\n",
    "        Default value: 1 (int)\n",
    "        Returns: n number of random faces on the die (list)\n",
    "        '''      \n",
    "        # chooses \"n\" random \"faces\" from the die according to the weights                                                              \n",
    "        return random.choices(self.__die.index, k = n, weights = self.__die.Weight)                   \n",
    "\n",
    "    def show(self):\n",
    "        '''\n",
    "        Show the current die, including the faces and their corresponding weights.\n",
    "        Returns: Die (dataframe)\n",
    "        '''\n",
    "        return self.__die\n",
    "\n",
    "class Game:\n",
    "    '''\n",
    "    Plays a game which consists of rolling one or more dice one or more times.\n",
    "    '''\n",
    "    def __init__(self, dice):\n",
    "        '''\n",
    "        Input: dice (list of Die objects)\n",
    "        '''\n",
    "        self.dice = dice \n",
    "\n",
    "    def play(self, n):\n",
    "        '''\n",
    "        Chooses a random face on each die \"n\" times and saves the results.\n",
    "        Input: n (integer)\n",
    "        '''\n",
    "        results = []\n",
    "        for n in range(n):\n",
    "            roll = [Die.roll(die)[0] for die in self.dice]                     # calls the \"roll\" function and creates a list\n",
    "            results.append(roll)                                               # of the results from \"n\" rolls for each die\n",
    "\n",
    "        # save results to a private dataframe\n",
    "        __columns = list(range(0,len(self.dice)))                              # defines the column names\n",
    "        self.__outcome = pd.DataFrame(results, columns = __columns)            # creates a dataframe from the list of results\n",
    "        self.__outcome.index = list(range(0,len(self.__outcome)))              # defines the index for the dataframe \n",
    "        self.__outcome.index.name = 'Roll'                                     # names the row index \"Roll\"\n",
    "        self.__outcome.columns.name = 'Die'                                    # names the column index \"Die\"\n",
    "\n",
    "    def show(self, form = \"wide\"):\n",
    "        '''\n",
    "        Shows the outcome of the most recent play as a dataframe in either \"wide\" or \"narrow\" form.\n",
    "        Input: form (\"wide\" or \"narrow\" strings)\n",
    "        Default value: \"wide\" (string)\n",
    "        Returns: outcome (dataframe)\n",
    "        '''\n",
    "        if form == \"wide\":\n",
    "            return self.__outcome                                              # returns the dataframe in wide form \n",
    "        elif form == \"narrow\":\n",
    "            return self.__outcome.stack().to_frame(\"Face rolled\")              # returns the dataframe in narrow form \n",
    "        else:\n",
    "            raise ValueError('The form must be \"wide\" or \"narrow\"')            # raises an error if the form input is invalid\n",
    "\n",
    "class Analyzer: \n",
    "    '''\n",
    "    Takes the results of a game and returns the number of jackpots, \n",
    "    the combinations of \"faces\", and the \"face\" counts for each roll. \n",
    "    '''\n",
    "    def __init__(self, game):\n",
    "        '''\n",
    "        Input: dice (list of Die objects)\n",
    "        '''\n",
    "        self.__game = game                                                     # defines game object                         \n",
    "        self.__outcome = game.show()                                           # defines outcome of game \n",
    "    \n",
    "    def jackpot(self): \n",
    "        '''\n",
    "        Computes how many times the game resulted in all faces being identical.\n",
    "        Attribute: analyzer.jackpots (dataframe)\n",
    "        '''\n",
    "        self.jackpots = self.__outcome.copy()                                  # creates a copy of the outcome dataframe\n",
    "        count = 0                                                              # initializes the jackpot count to be zero\n",
    "\n",
    "        for row in range(0, len(self.jackpots)):                               # steps through each row in the outcome dataframe\n",
    "            if len(set(self.jackpots.loc[row])) != 1:                          # if all of the \"faces\" are not equal,\n",
    "                self.jackpots = self.jackpots.drop([row])                      # that row is dropped from the dataframe\n",
    "            else:\n",
    "                count += 1                                                     # otherwise, add 1 jackpot to the total count\n",
    "        return count                                                           # display the total number of jackpots\n",
    "\n",
    "    def combo(self):\n",
    "        '''\n",
    "        Computes the distinct combinations of faces rolled, along with their counts.\n",
    "        Attribute: analyzer.combos (dataframe) \n",
    "        '''\n",
    "        # sorts the columns and saves the combinations and their counts  \n",
    "        combos = self.__outcome.copy() \n",
    "        self.combos = combos.apply(lambda x: pd.Series(sorted(x)),1).value_counts().to_frame('Counts')           \n",
    "                                                                      \n",
    "    def face_count(self):\n",
    "        '''\n",
    "        Computes how many times a given \"face\" is rolled in each game\n",
    "        Attribute: analyzer.face_counts (dataframe)\n",
    "        '''\n",
    "        faces = self.__game.dice[0].show().index.values.tolist()               # defines the list of \"faces\"\n",
    "        self.face_counts = pd.DataFrame(columns = faces)                       # creates a dataframe with the \"faces\" as columns\n",
    "        for row in range(0, len(self.__outcome)):                              # for each row in the outcome dataframe,\n",
    "            add_row = self.__outcome.loc[row].value_counts().to_frame().T      # defines a row with the count of unique \"faces\"\n",
    "            self.face_counts = pd.concat([self.face_counts, add_row], axis=0)  # adds the defined row to the face_counts dataframe\n",
    "        self.face_counts = self.face_counts.fillna(0)                          # changes the face_counts NaN values to be zero"
   ]
  },
  {
   "cell_type": "markdown",
   "id": "4c81c4f0-b6ff-46ab-ba2c-9de7f0179715",
   "metadata": {},
   "source": [
    "# Test Module"
   ]
  },
  {
   "cell_type": "code",
   "execution_count": 2,
   "id": "14b878d8-258b-4cf2-ad88-b8ee90d43977",
   "metadata": {
    "scrolled": true
   },
   "outputs": [],
   "source": [
    "import unittest\n",
    "import numpy as np\n",
    "import pandas as pd\n",
    "from pandas.testing import assert_frame_equal\n",
    "from montecarlo import Die, Game, Analyzer\n",
    "\n",
    "class MontecarloTestSuite(unittest.TestCase):\n",
    "    '''\n",
    "    Tests the classes containted in the module \"montecarlo\". \n",
    "    '''\n",
    "    def test_1_change_weight(self):\n",
    "        '''\n",
    "        Tests the Die.change_weight() function.\n",
    "        '''\n",
    "        # create die instance\n",
    "        die = Die([1,2,3,4,5,6])\n",
    "        # change weight\n",
    "        die.change_weight(1,3)\n",
    "        # check\n",
    "        actual = die.show()\n",
    "        expected = pd.DataFrame({'Weight': [3.0,1.0,1.0,1.0,1.0,1.0]}, \\\n",
    "                                   index = [1,2,3,4,5,6])\n",
    "        pd.testing.assert_frame_equal(actual, expected) \n",
    "\n",
    "    def test_2_roll(self):\n",
    "        '''\n",
    "        Tests the Die.roll() function. \n",
    "        '''\n",
    "        # create die instance\n",
    "        die = Die([1,2,3,4,5,6])\n",
    "        # roll\n",
    "        roll = die.roll()\n",
    "        # check\n",
    "        actual = 1 <= roll[0] <= 6\n",
    "        message = \"Test value is not True.\"\n",
    "        self.assertTrue(actual, message)\n",
    "\n",
    "    def test_3_show(self):\n",
    "        '''\n",
    "        Tests the Die.show() function. \n",
    "        '''\n",
    "        # create die instance\n",
    "        die = Die([1,2,3,4,5,6])\n",
    "        # check \n",
    "        actual = die.show()\n",
    "        expected = pd.DataFrame({'Weight': [1.0,1.0,1.0,1.0,1.0,1.0]}, index = [1,2,3,4,5,6])\n",
    "        pd.testing.assert_frame_equal(actual, expected)\n",
    "\n",
    "# GAME TESTS \n",
    "    def test_4_play(self):\n",
    "        '''\n",
    "        Tests the Game.play() function. \n",
    "        '''\n",
    "        # create game instance\n",
    "        die1 = Die([1,2,3,4,5,6])\n",
    "        die2 = Die([1,2,3,4,5,6])\n",
    "        game = Game([die1, die2])\n",
    "        # play\n",
    "        game.play(3)\n",
    "        result = game.show()\n",
    "        # check \n",
    "        actual = np.shape(result.values)\n",
    "        expected = (3,2) \n",
    "        self.assertEqual(actual, expected)\n",
    "\n",
    "    def test_5_show(self): \n",
    "        '''\n",
    "        Tests the Game.show() function. \n",
    "        '''\n",
    "        # create game instance\n",
    "        die1 = Die([1,2,3,4,5,6])\n",
    "        die2 = Die([1,2,3,4,5,6])\n",
    "        game = Game([die1, die2])\n",
    "        game.play(5)\n",
    "        result = game.show()\n",
    "        # check \n",
    "        actual = np.shape(result.values)\n",
    "        expected = (5,2)\n",
    "        self.assertEqual(actual, expected)\n",
    "\n",
    "# ANALYZER TESTS \n",
    "    def test_6_jackpot(self):\n",
    "        '''\n",
    "        Tests the Analyzer.jackpot() function. \n",
    "        '''\n",
    "        # create analyzer instance \n",
    "        die1 = Die([1,2,3,4,5,6])\n",
    "        die2 = Die([1,2,3,4,5,6])\n",
    "        game = Game([die1, die2])\n",
    "        game.play(50)\n",
    "        analyzer = Analyzer(game)\n",
    "        # find jackpots \n",
    "        analyzer.jackpot()\n",
    "        jackpots = analyzer.jackpots\n",
    "        list = jackpots.values.tolist()\n",
    "        # check \n",
    "        actual = 0\n",
    "        for i in range(0,len(list)):        \n",
    "            if all(x == list[i][0] for x in list[i]) == True:\n",
    "                actual += 1 \n",
    "        expected = len(list)\n",
    "        self.assertEqual(actual, expected) \n",
    "\n",
    "    def test_7_combo(self):\n",
    "        '''\n",
    "        Tests the Analyzer.combo() function.\n",
    "        '''\n",
    "        # create analyzer instance\n",
    "        die1 = Die([1,2,3,4,5,6])\n",
    "        die2 = Die([1,2,3,4,5,6])\n",
    "        game = Game([die1, die2])\n",
    "        game.play(50)\n",
    "        analyzer = Analyzer(game) \n",
    "        # find combos\n",
    "        analyzer.combo()\n",
    "        combos = analyzer.combos\n",
    "        list = combos.index.tolist()\n",
    "        # check \n",
    "        actual = sorted(set(item for item in list))\n",
    "        expected = sorted(list)\n",
    "        self.assertEqual(actual, expected) \n",
    "\n",
    "    def test_8_face_count(self):\n",
    "        '''\n",
    "        Tests the Analyzer.face_count() function. \n",
    "        '''\n",
    "        # create analyzer instance\n",
    "        die1 = Die([1,2,3])\n",
    "        die2 = Die([1,2,3])\n",
    "        game = Game([die1, die2])\n",
    "        game.play(10)\n",
    "        analyzer = Analyzer(game)\n",
    "        # find face_count\n",
    "        analyzer.face_count()\n",
    "        list = analyzer.face_counts.values\n",
    "        # check\n",
    "        actual = 0 \n",
    "        for i in range(0,len(list)):        \n",
    "            if sum(list[i]) == 2:\n",
    "                actual += 1 \n",
    "        expected = len(list)\n",
    "        self.assertEqual(actual, expected) \n",
    "\n",
    "#if __name__ == '__main__':\n",
    "#    unittest.main(verbosity=3)"
   ]
  },
  {
   "cell_type": "markdown",
   "id": "3c2b90b6-ac8b-43fa-a069-cb5b0b22aee0",
   "metadata": {},
   "source": [
    "# Test Results"
   ]
  },
  {
   "cell_type": "raw",
   "id": "5954b787-42aa-4d18-a7e3-add01dd6ba58",
   "metadata": {},
   "source": [
    "test_1_change_weight (__main__.MontecarloTestSuite) \n",
    "Tests the Die.change_weight() function. ... ok\n",
    "test_2_roll (__main__.MontecarloTestSuite)\n",
    "Tests the Die.roll() function. ... ok\n",
    "test_3_show (__main__.MontecarloTestSuite)\n",
    "Tests the Die.show() function. ... ok\n",
    "test_4_play (__main__.MontecarloTestSuite)\n",
    "Tests the Game.play() function. ... ok\n",
    "test_5_show (__main__.MontecarloTestSuite)\n",
    "Tests the Game.show() function. ... ok\n",
    "test_6_jackpot (__main__.MontecarloTestSuite)\n",
    "Tests the Analyzer.jackpot() function. ... ok\n",
    "test_7_combo (__main__.MontecarloTestSuite)\n",
    "Tests the Analyzer.combo() function. ... ok\n",
    "test_8_face_count (__main__.MontecarloTestSuite)\n",
    "Tests the Analyzer.face_count() function. ... ok\n",
    "\n",
    "----------------------------------------------------------------------\n",
    "Ran 8 tests in 0.051s\n",
    "\n",
    "OK"
   ]
  },
  {
   "cell_type": "markdown",
   "id": "7c44695d-d1b3-4edf-9f94-e64d7446f199",
   "metadata": {},
   "source": [
    "# Scenarios\n",
    "\n",
    "Code blocks with your scenarios and their outputs. \n",
    "\n",
    "These should have appropriate import statements even though the code is now in the same notebook as the classes it calls. "
   ]
  },
  {
   "cell_type": "code",
   "execution_count": 3,
   "id": "dbb9f17c-2685-40c6-9817-f877c615ca8f",
   "metadata": {
    "scrolled": true
   },
   "outputs": [],
   "source": [
    "from montecarlo import Die, Game, Analyzer"
   ]
  },
  {
   "cell_type": "markdown",
   "id": "90b7abd8-f4a7-4d71-bc9a-746640516b98",
   "metadata": {},
   "source": [
    "## Scenario 1: A 2-headed coin"
   ]
  },
  {
   "cell_type": "markdown",
   "id": "7e22a6f7-e918-42d5-a625-0fba71441b7d",
   "metadata": {},
   "source": [
    "---\n",
    "Create a fair coin (with faces H and T) and one unfair coin, in which one of the faces has a weight of 5 and the others 1."
   ]
  },
  {
   "cell_type": "code",
   "execution_count": 4,
   "id": "815eae36-4357-442a-894e-d056ebb8f998",
   "metadata": {
    "scrolled": true
   },
   "outputs": [],
   "source": [
    "fair = Die(['H', 'T'])\n",
    "unfair = Die(['H','T'])\n",
    "unfair.change_weight('H', 5)"
   ]
  },
  {
   "cell_type": "code",
   "execution_count": 5,
   "id": "5ff06c5e-3f9d-4063-914d-ad4a49327a74",
   "metadata": {
    "tags": []
   },
   "outputs": [
    {
     "data": {
      "text/html": [
       "<div>\n",
       "<style scoped>\n",
       "    .dataframe tbody tr th:only-of-type {\n",
       "        vertical-align: middle;\n",
       "    }\n",
       "\n",
       "    .dataframe tbody tr th {\n",
       "        vertical-align: top;\n",
       "    }\n",
       "\n",
       "    .dataframe thead th {\n",
       "        text-align: right;\n",
       "    }\n",
       "</style>\n",
       "<table border=\"1\" class=\"dataframe\">\n",
       "  <thead>\n",
       "    <tr style=\"text-align: right;\">\n",
       "      <th></th>\n",
       "      <th>Weight</th>\n",
       "    </tr>\n",
       "  </thead>\n",
       "  <tbody>\n",
       "    <tr>\n",
       "      <th>H</th>\n",
       "      <td>1.0</td>\n",
       "    </tr>\n",
       "    <tr>\n",
       "      <th>T</th>\n",
       "      <td>1.0</td>\n",
       "    </tr>\n",
       "  </tbody>\n",
       "</table>\n",
       "</div>"
      ],
      "text/plain": [
       "   Weight\n",
       "H     1.0\n",
       "T     1.0"
      ]
     },
     "execution_count": 5,
     "metadata": {},
     "output_type": "execute_result"
    }
   ],
   "source": [
    "fair.show()"
   ]
  },
  {
   "cell_type": "code",
   "execution_count": 6,
   "id": "f609cbbb-5f76-43ec-b99e-f06954b08b4e",
   "metadata": {
    "tags": []
   },
   "outputs": [
    {
     "data": {
      "text/html": [
       "<div>\n",
       "<style scoped>\n",
       "    .dataframe tbody tr th:only-of-type {\n",
       "        vertical-align: middle;\n",
       "    }\n",
       "\n",
       "    .dataframe tbody tr th {\n",
       "        vertical-align: top;\n",
       "    }\n",
       "\n",
       "    .dataframe thead th {\n",
       "        text-align: right;\n",
       "    }\n",
       "</style>\n",
       "<table border=\"1\" class=\"dataframe\">\n",
       "  <thead>\n",
       "    <tr style=\"text-align: right;\">\n",
       "      <th></th>\n",
       "      <th>Weight</th>\n",
       "    </tr>\n",
       "  </thead>\n",
       "  <tbody>\n",
       "    <tr>\n",
       "      <th>H</th>\n",
       "      <td>5.0</td>\n",
       "    </tr>\n",
       "    <tr>\n",
       "      <th>T</th>\n",
       "      <td>1.0</td>\n",
       "    </tr>\n",
       "  </tbody>\n",
       "</table>\n",
       "</div>"
      ],
      "text/plain": [
       "   Weight\n",
       "H     5.0\n",
       "T     1.0"
      ]
     },
     "execution_count": 6,
     "metadata": {},
     "output_type": "execute_result"
    }
   ],
   "source": [
    "unfair.show()"
   ]
  },
  {
   "cell_type": "markdown",
   "id": "be727a76-c182-441d-9e77-4cc316d4c7c6",
   "metadata": {},
   "source": [
    "---\n",
    "Play a game of 1000 flips of three coins with all fair dice."
   ]
  },
  {
   "cell_type": "code",
   "execution_count": 7,
   "id": "7f32b151-e491-4dd5-bd75-895653fcda6e",
   "metadata": {
    "tags": []
   },
   "outputs": [
    {
     "data": {
      "text/html": [
       "<div>\n",
       "<style scoped>\n",
       "    .dataframe tbody tr th:only-of-type {\n",
       "        vertical-align: middle;\n",
       "    }\n",
       "\n",
       "    .dataframe tbody tr th {\n",
       "        vertical-align: top;\n",
       "    }\n",
       "\n",
       "    .dataframe thead th {\n",
       "        text-align: right;\n",
       "    }\n",
       "</style>\n",
       "<table border=\"1\" class=\"dataframe\">\n",
       "  <thead>\n",
       "    <tr style=\"text-align: right;\">\n",
       "      <th>Die</th>\n",
       "      <th>0</th>\n",
       "      <th>1</th>\n",
       "      <th>2</th>\n",
       "    </tr>\n",
       "    <tr>\n",
       "      <th>Roll</th>\n",
       "      <th></th>\n",
       "      <th></th>\n",
       "      <th></th>\n",
       "    </tr>\n",
       "  </thead>\n",
       "  <tbody>\n",
       "    <tr>\n",
       "      <th>0</th>\n",
       "      <td>H</td>\n",
       "      <td>T</td>\n",
       "      <td>H</td>\n",
       "    </tr>\n",
       "    <tr>\n",
       "      <th>1</th>\n",
       "      <td>H</td>\n",
       "      <td>T</td>\n",
       "      <td>H</td>\n",
       "    </tr>\n",
       "    <tr>\n",
       "      <th>2</th>\n",
       "      <td>T</td>\n",
       "      <td>H</td>\n",
       "      <td>T</td>\n",
       "    </tr>\n",
       "    <tr>\n",
       "      <th>3</th>\n",
       "      <td>H</td>\n",
       "      <td>H</td>\n",
       "      <td>H</td>\n",
       "    </tr>\n",
       "    <tr>\n",
       "      <th>4</th>\n",
       "      <td>H</td>\n",
       "      <td>T</td>\n",
       "      <td>H</td>\n",
       "    </tr>\n",
       "    <tr>\n",
       "      <th>...</th>\n",
       "      <td>...</td>\n",
       "      <td>...</td>\n",
       "      <td>...</td>\n",
       "    </tr>\n",
       "    <tr>\n",
       "      <th>995</th>\n",
       "      <td>T</td>\n",
       "      <td>H</td>\n",
       "      <td>H</td>\n",
       "    </tr>\n",
       "    <tr>\n",
       "      <th>996</th>\n",
       "      <td>H</td>\n",
       "      <td>T</td>\n",
       "      <td>H</td>\n",
       "    </tr>\n",
       "    <tr>\n",
       "      <th>997</th>\n",
       "      <td>H</td>\n",
       "      <td>T</td>\n",
       "      <td>H</td>\n",
       "    </tr>\n",
       "    <tr>\n",
       "      <th>998</th>\n",
       "      <td>T</td>\n",
       "      <td>H</td>\n",
       "      <td>T</td>\n",
       "    </tr>\n",
       "    <tr>\n",
       "      <th>999</th>\n",
       "      <td>T</td>\n",
       "      <td>T</td>\n",
       "      <td>H</td>\n",
       "    </tr>\n",
       "  </tbody>\n",
       "</table>\n",
       "<p>1000 rows × 3 columns</p>\n",
       "</div>"
      ],
      "text/plain": [
       "Die   0  1  2\n",
       "Roll         \n",
       "0     H  T  H\n",
       "1     H  T  H\n",
       "2     T  H  T\n",
       "3     H  H  H\n",
       "4     H  T  H\n",
       "...  .. .. ..\n",
       "995   T  H  H\n",
       "996   H  T  H\n",
       "997   H  T  H\n",
       "998   T  H  T\n",
       "999   T  T  H\n",
       "\n",
       "[1000 rows x 3 columns]"
      ]
     },
     "execution_count": 7,
     "metadata": {},
     "output_type": "execute_result"
    }
   ],
   "source": [
    "fair_game = Game([fair, fair, fair])\n",
    "fair_game.play(1000)\n",
    "fair_game.show()"
   ]
  },
  {
   "cell_type": "markdown",
   "id": "323cdef3-084d-43a5-9d63-b241968753e3",
   "metadata": {},
   "source": [
    "---\n",
    "Play a game of 1000 flips with two unfair dice and one fair die."
   ]
  },
  {
   "cell_type": "code",
   "execution_count": 8,
   "id": "b2508c4c-1ad5-4eb8-9d78-63d98c54bc50",
   "metadata": {
    "tags": []
   },
   "outputs": [
    {
     "data": {
      "text/html": [
       "<div>\n",
       "<style scoped>\n",
       "    .dataframe tbody tr th:only-of-type {\n",
       "        vertical-align: middle;\n",
       "    }\n",
       "\n",
       "    .dataframe tbody tr th {\n",
       "        vertical-align: top;\n",
       "    }\n",
       "\n",
       "    .dataframe thead th {\n",
       "        text-align: right;\n",
       "    }\n",
       "</style>\n",
       "<table border=\"1\" class=\"dataframe\">\n",
       "  <thead>\n",
       "    <tr style=\"text-align: right;\">\n",
       "      <th>Die</th>\n",
       "      <th>0</th>\n",
       "      <th>1</th>\n",
       "      <th>2</th>\n",
       "    </tr>\n",
       "    <tr>\n",
       "      <th>Roll</th>\n",
       "      <th></th>\n",
       "      <th></th>\n",
       "      <th></th>\n",
       "    </tr>\n",
       "  </thead>\n",
       "  <tbody>\n",
       "    <tr>\n",
       "      <th>0</th>\n",
       "      <td>H</td>\n",
       "      <td>H</td>\n",
       "      <td>H</td>\n",
       "    </tr>\n",
       "    <tr>\n",
       "      <th>1</th>\n",
       "      <td>H</td>\n",
       "      <td>H</td>\n",
       "      <td>T</td>\n",
       "    </tr>\n",
       "    <tr>\n",
       "      <th>2</th>\n",
       "      <td>H</td>\n",
       "      <td>H</td>\n",
       "      <td>T</td>\n",
       "    </tr>\n",
       "    <tr>\n",
       "      <th>3</th>\n",
       "      <td>H</td>\n",
       "      <td>H</td>\n",
       "      <td>T</td>\n",
       "    </tr>\n",
       "    <tr>\n",
       "      <th>4</th>\n",
       "      <td>H</td>\n",
       "      <td>T</td>\n",
       "      <td>H</td>\n",
       "    </tr>\n",
       "    <tr>\n",
       "      <th>...</th>\n",
       "      <td>...</td>\n",
       "      <td>...</td>\n",
       "      <td>...</td>\n",
       "    </tr>\n",
       "    <tr>\n",
       "      <th>995</th>\n",
       "      <td>H</td>\n",
       "      <td>H</td>\n",
       "      <td>H</td>\n",
       "    </tr>\n",
       "    <tr>\n",
       "      <th>996</th>\n",
       "      <td>H</td>\n",
       "      <td>H</td>\n",
       "      <td>T</td>\n",
       "    </tr>\n",
       "    <tr>\n",
       "      <th>997</th>\n",
       "      <td>H</td>\n",
       "      <td>H</td>\n",
       "      <td>T</td>\n",
       "    </tr>\n",
       "    <tr>\n",
       "      <th>998</th>\n",
       "      <td>H</td>\n",
       "      <td>H</td>\n",
       "      <td>T</td>\n",
       "    </tr>\n",
       "    <tr>\n",
       "      <th>999</th>\n",
       "      <td>H</td>\n",
       "      <td>H</td>\n",
       "      <td>T</td>\n",
       "    </tr>\n",
       "  </tbody>\n",
       "</table>\n",
       "<p>1000 rows × 3 columns</p>\n",
       "</div>"
      ],
      "text/plain": [
       "Die   0  1  2\n",
       "Roll         \n",
       "0     H  H  H\n",
       "1     H  H  T\n",
       "2     H  H  T\n",
       "3     H  H  T\n",
       "4     H  T  H\n",
       "...  .. .. ..\n",
       "995   H  H  H\n",
       "996   H  H  T\n",
       "997   H  H  T\n",
       "998   H  H  T\n",
       "999   H  H  T\n",
       "\n",
       "[1000 rows x 3 columns]"
      ]
     },
     "execution_count": 8,
     "metadata": {},
     "output_type": "execute_result"
    }
   ],
   "source": [
    "unfair_game = Game([unfair, unfair, fair])\n",
    "unfair_game.play(1000)\n",
    "unfair_game.show()"
   ]
  },
  {
   "cell_type": "markdown",
   "id": "76837b26-e30f-4d02-bd88-bcd4e2a054b4",
   "metadata": {},
   "source": [
    "---\n",
    "For each game, use an Analyzer object to determine the relative frequency of jackpots – getting either all Hs or all Ts."
   ]
  },
  {
   "cell_type": "code",
   "execution_count": 9,
   "id": "00e03e60-af4b-4097-85f6-9ea4b73d3ae4",
   "metadata": {
    "tags": []
   },
   "outputs": [
    {
     "name": "stdout",
     "output_type": "stream",
     "text": [
      "Relative frequency of jackpots for the fair game: 0.246\n",
      "Relative frequency of jackpots for the unfair game: 0.365\n"
     ]
    }
   ],
   "source": [
    "fair_analyzer = Analyzer(fair_game)\n",
    "unfair_analyzer = Analyzer(unfair_game)\n",
    "\n",
    "fair_frq = fair_analyzer.jackpot() / 1000\n",
    "unfair_frq = unfair_analyzer.jackpot() / 1000\n",
    "\n",
    "print('Relative frequency of jackpots for the fair game:', fair_frq)\n",
    "print('Relative frequency of jackpots for the unfair game:', unfair_frq)"
   ]
  },
  {
   "cell_type": "markdown",
   "id": "aab1bd30-3736-48dd-9994-c62b91237174",
   "metadata": {},
   "source": [
    "---\n",
    "Show your results, comparing the two relative frequencies, in a simple bar chart."
   ]
  },
  {
   "cell_type": "code",
   "execution_count": 10,
   "id": "f600edfd-e011-462e-bd09-2cc122f0dc12",
   "metadata": {
    "tags": []
   },
   "outputs": [
    {
     "data": {
      "image/png": "[encoded data removed]",
      "text/plain": [
       "<Figure size 432x288 with 1 Axes>"
      ]
     },
     "metadata": {
      "needs_background": "light"
     },
     "output_type": "display_data"
    }
   ],
   "source": [
    "import matplotlib.pyplot as plt\n",
    "plt.bar(['Fair', 'Unfair'],[fair_frq, unfair_frq]);\n",
    "plt.title('Relative frequency of jackpots');"
   ]
  },
  {
   "cell_type": "markdown",
   "id": "92793a09-0024-465d-b272-2ef8b9a6c21c",
   "metadata": {},
   "source": [
    "## Scenario 2: A 6-sided die"
   ]
  },
  {
   "cell_type": "markdown",
   "id": "d0be1aa4-2d91-4f32-88ae-c068e8542222",
   "metadata": {},
   "source": [
    "---\n",
    "Create a fair die and two unfair dice, all of six sides with the faces 1 through 6. One unfair die (Type 1) will weight 6 five times more than the others (i.e. it has weight of 5 and the others a weight of 1 each). The other unfair die (Type 2) will  weight 1 five times more than the others."
   ]
  },
  {
   "cell_type": "code",
   "execution_count": 11,
   "id": "560c5d10-5893-4241-805b-0d0aa62e3b57",
   "metadata": {
    "tags": []
   },
   "outputs": [
    {
     "data": {
      "text/html": [
       "<div>\n",
       "<style scoped>\n",
       "    .dataframe tbody tr th:only-of-type {\n",
       "        vertical-align: middle;\n",
       "    }\n",
       "\n",
       "    .dataframe tbody tr th {\n",
       "        vertical-align: top;\n",
       "    }\n",
       "\n",
       "    .dataframe thead th {\n",
       "        text-align: right;\n",
       "    }\n",
       "</style>\n",
       "<table border=\"1\" class=\"dataframe\">\n",
       "  <thead>\n",
       "    <tr style=\"text-align: right;\">\n",
       "      <th></th>\n",
       "      <th>Weight</th>\n",
       "    </tr>\n",
       "  </thead>\n",
       "  <tbody>\n",
       "    <tr>\n",
       "      <th>1</th>\n",
       "      <td>1.0</td>\n",
       "    </tr>\n",
       "    <tr>\n",
       "      <th>2</th>\n",
       "      <td>1.0</td>\n",
       "    </tr>\n",
       "    <tr>\n",
       "      <th>3</th>\n",
       "      <td>1.0</td>\n",
       "    </tr>\n",
       "    <tr>\n",
       "      <th>4</th>\n",
       "      <td>1.0</td>\n",
       "    </tr>\n",
       "    <tr>\n",
       "      <th>5</th>\n",
       "      <td>1.0</td>\n",
       "    </tr>\n",
       "    <tr>\n",
       "      <th>6</th>\n",
       "      <td>1.0</td>\n",
       "    </tr>\n",
       "  </tbody>\n",
       "</table>\n",
       "</div>"
      ],
      "text/plain": [
       "   Weight\n",
       "1     1.0\n",
       "2     1.0\n",
       "3     1.0\n",
       "4     1.0\n",
       "5     1.0\n",
       "6     1.0"
      ]
     },
     "execution_count": 11,
     "metadata": {},
     "output_type": "execute_result"
    }
   ],
   "source": [
    "fair = Die([1, 2, 3, 4, 5, 6])\n",
    "fair.show()"
   ]
  },
  {
   "cell_type": "code",
   "execution_count": 12,
   "id": "8dc5223c-dd46-4f9e-a14d-b810c8b44858",
   "metadata": {
    "tags": []
   },
   "outputs": [
    {
     "data": {
      "text/html": [
       "<div>\n",
       "<style scoped>\n",
       "    .dataframe tbody tr th:only-of-type {\n",
       "        vertical-align: middle;\n",
       "    }\n",
       "\n",
       "    .dataframe tbody tr th {\n",
       "        vertical-align: top;\n",
       "    }\n",
       "\n",
       "    .dataframe thead th {\n",
       "        text-align: right;\n",
       "    }\n",
       "</style>\n",
       "<table border=\"1\" class=\"dataframe\">\n",
       "  <thead>\n",
       "    <tr style=\"text-align: right;\">\n",
       "      <th></th>\n",
       "      <th>Weight</th>\n",
       "    </tr>\n",
       "  </thead>\n",
       "  <tbody>\n",
       "    <tr>\n",
       "      <th>1</th>\n",
       "      <td>1.0</td>\n",
       "    </tr>\n",
       "    <tr>\n",
       "      <th>2</th>\n",
       "      <td>1.0</td>\n",
       "    </tr>\n",
       "    <tr>\n",
       "      <th>3</th>\n",
       "      <td>1.0</td>\n",
       "    </tr>\n",
       "    <tr>\n",
       "      <th>4</th>\n",
       "      <td>1.0</td>\n",
       "    </tr>\n",
       "    <tr>\n",
       "      <th>5</th>\n",
       "      <td>1.0</td>\n",
       "    </tr>\n",
       "    <tr>\n",
       "      <th>6</th>\n",
       "      <td>5.0</td>\n",
       "    </tr>\n",
       "  </tbody>\n",
       "</table>\n",
       "</div>"
      ],
      "text/plain": [
       "   Weight\n",
       "1     1.0\n",
       "2     1.0\n",
       "3     1.0\n",
       "4     1.0\n",
       "5     1.0\n",
       "6     5.0"
      ]
     },
     "execution_count": 12,
     "metadata": {},
     "output_type": "execute_result"
    }
   ],
   "source": [
    "unfair1 = Die([1, 2, 3, 4, 5, 6])\n",
    "unfair1.change_weight(6, 5)\n",
    "unfair1.show()"
   ]
  },
  {
   "cell_type": "code",
   "execution_count": 13,
   "id": "5e92a44e-702b-4855-a2c0-fc1e28869f5a",
   "metadata": {
    "tags": []
   },
   "outputs": [
    {
     "data": {
      "text/html": [
       "<div>\n",
       "<style scoped>\n",
       "    .dataframe tbody tr th:only-of-type {\n",
       "        vertical-align: middle;\n",
       "    }\n",
       "\n",
       "    .dataframe tbody tr th {\n",
       "        vertical-align: top;\n",
       "    }\n",
       "\n",
       "    .dataframe thead th {\n",
       "        text-align: right;\n",
       "    }\n",
       "</style>\n",
       "<table border=\"1\" class=\"dataframe\">\n",
       "  <thead>\n",
       "    <tr style=\"text-align: right;\">\n",
       "      <th></th>\n",
       "      <th>Weight</th>\n",
       "    </tr>\n",
       "  </thead>\n",
       "  <tbody>\n",
       "    <tr>\n",
       "      <th>1</th>\n",
       "      <td>5.0</td>\n",
       "    </tr>\n",
       "    <tr>\n",
       "      <th>2</th>\n",
       "      <td>1.0</td>\n",
       "    </tr>\n",
       "    <tr>\n",
       "      <th>3</th>\n",
       "      <td>1.0</td>\n",
       "    </tr>\n",
       "    <tr>\n",
       "      <th>4</th>\n",
       "      <td>1.0</td>\n",
       "    </tr>\n",
       "    <tr>\n",
       "      <th>5</th>\n",
       "      <td>1.0</td>\n",
       "    </tr>\n",
       "    <tr>\n",
       "      <th>6</th>\n",
       "      <td>1.0</td>\n",
       "    </tr>\n",
       "  </tbody>\n",
       "</table>\n",
       "</div>"
      ],
      "text/plain": [
       "   Weight\n",
       "1     5.0\n",
       "2     1.0\n",
       "3     1.0\n",
       "4     1.0\n",
       "5     1.0\n",
       "6     1.0"
      ]
     },
     "execution_count": 13,
     "metadata": {},
     "output_type": "execute_result"
    }
   ],
   "source": [
    "unfair2 = Die([1, 2, 3, 4, 5, 6])\n",
    "unfair2.change_weight(1, 5)\n",
    "unfair2.show()"
   ]
  },
  {
   "cell_type": "markdown",
   "id": "ffb99369-91c9-41ab-8a89-2650b67f5ebe",
   "metadata": {},
   "source": [
    "---\n",
    "Play a game of 10000 rolls with 5 fair dice. \n",
    "\n",
    "Play a game of 10000 rolls with 2 unfair dice of type 1, 1 unfair die of type 2, and the rest fair dice."
   ]
  },
  {
   "cell_type": "code",
   "execution_count": 14,
   "id": "a5695c0a-88ef-4c11-a68a-a2a7692f92f9",
   "metadata": {
    "scrolled": true
   },
   "outputs": [],
   "source": [
    "fair_game = Game([fair, fair, fair, fair, fair])\n",
    "fair_game.play(10000)\n",
    "\n",
    "unfair_game = Game([unfair1, unfair1, unfair2, fair, fair])\n",
    "unfair_game.play(10000)"
   ]
  },
  {
   "cell_type": "markdown",
   "id": "2025e604-9711-45b1-a6ad-77dd6cf25e59",
   "metadata": {},
   "source": [
    "---\n",
    "For each game, use an Analyzer object to determine the relative frequency of jackpots and show your results, comparing the two relative frequencies, in a simple bar chart."
   ]
  },
  {
   "cell_type": "code",
   "execution_count": 15,
   "id": "be2a6e39-2a21-424d-bcf4-85e8508ffca8",
   "metadata": {
    "tags": []
   },
   "outputs": [
    {
     "name": "stdout",
     "output_type": "stream",
     "text": [
      "Relative frequency of jackpots for the fair game: 0.01\n",
      "Relative frequency of jackpots for the unfair game: 0.006\n"
     ]
    }
   ],
   "source": [
    "fair_analyzer = Analyzer(fair_game)\n",
    "unfair_analyzer = Analyzer(unfair_game)\n",
    "\n",
    "fair_frq = fair_analyzer.jackpot() / 1000\n",
    "unfair_frq = unfair_analyzer.jackpot() / 1000\n",
    "\n",
    "print('Relative frequency of jackpots for the fair game:', fair_frq)\n",
    "print('Relative frequency of jackpots for the unfair game:', unfair_frq)"
   ]
  },
  {
   "cell_type": "code",
   "execution_count": 16,
   "id": "79626a05-5078-489d-aeef-187c4acbf748",
   "metadata": {
    "tags": []
   },
   "outputs": [
    {
     "data": {
      "image/png": "[encoded data removed]",
      "text/plain": [
       "<Figure size 432x288 with 1 Axes>"
      ]
     },
     "metadata": {
      "needs_background": "light"
     },
     "output_type": "display_data"
    }
   ],
   "source": [
    "plt.bar(['Fair', 'Unfair'],[fair_frq, unfair_frq])\n",
    "plt.title('Relative frequency of jackpots');"
   ]
  },
  {
   "cell_type": "markdown",
   "id": "3d7c1208-c837-4072-a4d4-879a865cc131",
   "metadata": {},
   "source": [
    "---\n",
    "Also compute 10 most frequent combinations of faces for each game. Plot each of these as bar charts."
   ]
  },
  {
   "cell_type": "code",
   "execution_count": 17,
   "id": "a530b2b2-ffa9-4db4-8e78-ff80bc52b4e7",
   "metadata": {
    "scrolled": true
   },
   "outputs": [],
   "source": [
    "fair_analyzer.combo()\n",
    "unfair_analyzer.combo()"
   ]
  },
  {
   "cell_type": "code",
   "execution_count": 18,
   "id": "79c93f4c-722b-4d99-857f-52c273db214b",
   "metadata": {
    "tags": []
   },
   "outputs": [
    {
     "data": {
      "text/html": [
       "<div>\n",
       "<style scoped>\n",
       "    .dataframe tbody tr th:only-of-type {\n",
       "        vertical-align: middle;\n",
       "    }\n",
       "\n",
       "    .dataframe tbody tr th {\n",
       "        vertical-align: top;\n",
       "    }\n",
       "\n",
       "    .dataframe thead th {\n",
       "        text-align: right;\n",
       "    }\n",
       "</style>\n",
       "<table border=\"1\" class=\"dataframe\">\n",
       "  <thead>\n",
       "    <tr style=\"text-align: right;\">\n",
       "      <th></th>\n",
       "      <th></th>\n",
       "      <th></th>\n",
       "      <th></th>\n",
       "      <th></th>\n",
       "      <th>Counts</th>\n",
       "    </tr>\n",
       "    <tr>\n",
       "      <th>0</th>\n",
       "      <th>1</th>\n",
       "      <th>2</th>\n",
       "      <th>3</th>\n",
       "      <th>4</th>\n",
       "      <th></th>\n",
       "    </tr>\n",
       "  </thead>\n",
       "  <tbody>\n",
       "    <tr>\n",
       "      <th rowspan=\"4\" valign=\"top\">1</th>\n",
       "      <th rowspan=\"2\" valign=\"top\">2</th>\n",
       "      <th rowspan=\"2\" valign=\"top\">3</th>\n",
       "      <th>5</th>\n",
       "      <th>6</th>\n",
       "      <td>165</td>\n",
       "    </tr>\n",
       "    <tr>\n",
       "      <th>4</th>\n",
       "      <th>6</th>\n",
       "      <td>155</td>\n",
       "    </tr>\n",
       "    <tr>\n",
       "      <th>3</th>\n",
       "      <th>4</th>\n",
       "      <th>5</th>\n",
       "      <th>6</th>\n",
       "      <td>148</td>\n",
       "    </tr>\n",
       "    <tr>\n",
       "      <th>2</th>\n",
       "      <th>4</th>\n",
       "      <th>5</th>\n",
       "      <th>6</th>\n",
       "      <td>143</td>\n",
       "    </tr>\n",
       "    <tr>\n",
       "      <th>2</th>\n",
       "      <th>3</th>\n",
       "      <th>4</th>\n",
       "      <th>5</th>\n",
       "      <th>6</th>\n",
       "      <td>141</td>\n",
       "    </tr>\n",
       "    <tr>\n",
       "      <th rowspan=\"4\" valign=\"top\">1</th>\n",
       "      <th rowspan=\"2\" valign=\"top\">2</th>\n",
       "      <th rowspan=\"2\" valign=\"top\">3</th>\n",
       "      <th>4</th>\n",
       "      <th>5</th>\n",
       "      <td>141</td>\n",
       "    </tr>\n",
       "    <tr>\n",
       "      <th>3</th>\n",
       "      <th>6</th>\n",
       "      <td>91</td>\n",
       "    </tr>\n",
       "    <tr>\n",
       "      <th rowspan=\"2\" valign=\"top\">1</th>\n",
       "      <th>2</th>\n",
       "      <th>3</th>\n",
       "      <th>5</th>\n",
       "      <td>90</td>\n",
       "    </tr>\n",
       "    <tr>\n",
       "      <th>3</th>\n",
       "      <th>5</th>\n",
       "      <th>6</th>\n",
       "      <td>89</td>\n",
       "    </tr>\n",
       "    <tr>\n",
       "      <th>3</th>\n",
       "      <th>3</th>\n",
       "      <th>4</th>\n",
       "      <th>5</th>\n",
       "      <th>6</th>\n",
       "      <td>89</td>\n",
       "    </tr>\n",
       "  </tbody>\n",
       "</table>\n",
       "</div>"
      ],
      "text/plain": [
       "           Counts\n",
       "0 1 2 3 4        \n",
       "1 2 3 5 6     165\n",
       "      4 6     155\n",
       "  3 4 5 6     148\n",
       "  2 4 5 6     143\n",
       "2 3 4 5 6     141\n",
       "1 2 3 4 5     141\n",
       "      3 6      91\n",
       "  1 2 3 5      90\n",
       "    3 5 6      89\n",
       "3 3 4 5 6      89"
      ]
     },
     "execution_count": 18,
     "metadata": {},
     "output_type": "execute_result"
    }
   ],
   "source": [
    "fair_analyzer.combos.head(10)"
   ]
  },
  {
   "cell_type": "code",
   "execution_count": 19,
   "id": "5aaca0e2-5f23-4fe0-a364-d6656c538f43",
   "metadata": {
    "tags": []
   },
   "outputs": [
    {
     "data": {
      "text/html": [
       "<div>\n",
       "<style scoped>\n",
       "    .dataframe tbody tr th:only-of-type {\n",
       "        vertical-align: middle;\n",
       "    }\n",
       "\n",
       "    .dataframe tbody tr th {\n",
       "        vertical-align: top;\n",
       "    }\n",
       "\n",
       "    .dataframe thead th {\n",
       "        text-align: right;\n",
       "    }\n",
       "</style>\n",
       "<table border=\"1\" class=\"dataframe\">\n",
       "  <thead>\n",
       "    <tr style=\"text-align: right;\">\n",
       "      <th></th>\n",
       "      <th></th>\n",
       "      <th></th>\n",
       "      <th></th>\n",
       "      <th></th>\n",
       "      <th>Counts</th>\n",
       "    </tr>\n",
       "    <tr>\n",
       "      <th>0</th>\n",
       "      <th>1</th>\n",
       "      <th>2</th>\n",
       "      <th>3</th>\n",
       "      <th>4</th>\n",
       "      <th></th>\n",
       "    </tr>\n",
       "  </thead>\n",
       "  <tbody>\n",
       "    <tr>\n",
       "      <th rowspan=\"10\" valign=\"top\">1</th>\n",
       "      <th rowspan=\"2\" valign=\"top\">3</th>\n",
       "      <th>4</th>\n",
       "      <th>6</th>\n",
       "      <th>6</th>\n",
       "      <td>214</td>\n",
       "    </tr>\n",
       "    <tr>\n",
       "      <th>5</th>\n",
       "      <th>6</th>\n",
       "      <th>6</th>\n",
       "      <td>213</td>\n",
       "    </tr>\n",
       "    <tr>\n",
       "      <th>4</th>\n",
       "      <th>5</th>\n",
       "      <th>6</th>\n",
       "      <th>6</th>\n",
       "      <td>207</td>\n",
       "    </tr>\n",
       "    <tr>\n",
       "      <th rowspan=\"5\" valign=\"top\">2</th>\n",
       "      <th>3</th>\n",
       "      <th>6</th>\n",
       "      <th>6</th>\n",
       "      <td>205</td>\n",
       "    </tr>\n",
       "    <tr>\n",
       "      <th>5</th>\n",
       "      <th>6</th>\n",
       "      <th>6</th>\n",
       "      <td>203</td>\n",
       "    </tr>\n",
       "    <tr>\n",
       "      <th>4</th>\n",
       "      <th>6</th>\n",
       "      <th>6</th>\n",
       "      <td>193</td>\n",
       "    </tr>\n",
       "    <tr>\n",
       "      <th>3</th>\n",
       "      <th>5</th>\n",
       "      <th>6</th>\n",
       "      <td>182</td>\n",
       "    </tr>\n",
       "    <tr>\n",
       "      <th>4</th>\n",
       "      <th>5</th>\n",
       "      <th>6</th>\n",
       "      <td>181</td>\n",
       "    </tr>\n",
       "    <tr>\n",
       "      <th>3</th>\n",
       "      <th>4</th>\n",
       "      <th>5</th>\n",
       "      <th>6</th>\n",
       "      <td>177</td>\n",
       "    </tr>\n",
       "    <tr>\n",
       "      <th>1</th>\n",
       "      <th>4</th>\n",
       "      <th>6</th>\n",
       "      <th>6</th>\n",
       "      <td>166</td>\n",
       "    </tr>\n",
       "  </tbody>\n",
       "</table>\n",
       "</div>"
      ],
      "text/plain": [
       "           Counts\n",
       "0 1 2 3 4        \n",
       "1 3 4 6 6     214\n",
       "    5 6 6     213\n",
       "  4 5 6 6     207\n",
       "  2 3 6 6     205\n",
       "    5 6 6     203\n",
       "    4 6 6     193\n",
       "    3 5 6     182\n",
       "    4 5 6     181\n",
       "  3 4 5 6     177\n",
       "  1 4 6 6     166"
      ]
     },
     "execution_count": 19,
     "metadata": {},
     "output_type": "execute_result"
    }
   ],
   "source": [
    "unfair_analyzer.combos.head(10)"
   ]
  },
  {
   "cell_type": "code",
   "execution_count": 20,
   "id": "9d456494-8f6c-4a3e-a3af-5a7cbec3e5b0",
   "metadata": {
    "tags": []
   },
   "outputs": [
    {
     "data": {
      "image/png": "[encoded data removed]",
      "text/plain": [
       "<Figure size 432x288 with 1 Axes>"
      ]
     },
     "metadata": {
      "needs_background": "light"
     },
     "output_type": "display_data"
    }
   ],
   "source": [
    "fair_plot = fair_analyzer.combos.head(10).reset_index()\n",
    "fair_plot[\"labels\"] = fair_plot[0].astype(str) + fair_plot[1].astype(str) + fair_plot[2].astype(str) \\\n",
    "                + fair_plot[3].astype(str) + fair_plot[4].astype(str)\n",
    "fair_plot = fair_plot[['Counts', 'labels']]\n",
    "plt.bar(fair_plot['labels'],fair_plot['Counts'])\n",
    "plt.xticks(rotation='vertical');\n",
    "plt.title(\"Fair Game Plot\");"
   ]
  },
  {
   "cell_type": "code",
   "execution_count": 21,
   "id": "31ebf271-5288-460b-b395-164483dab50b",
   "metadata": {
    "tags": []
   },
   "outputs": [
    {
     "data": {
      "image/png": "[encoded data removed]",
      "text/plain": [
       "<Figure size 432x288 with 1 Axes>"
      ]
     },
     "metadata": {
      "needs_background": "light"
     },
     "output_type": "display_data"
    }
   ],
   "source": [
    "unfair_plot = unfair_analyzer.combos.head(10).reset_index()\n",
    "unfair_plot[\"labels\"] = unfair_plot[0].astype(str) + unfair_plot[1].astype(str) + unfair_plot[2].astype(str) \\\n",
    "                + unfair_plot[3].astype(str) + unfair_plot[4].astype(str)\n",
    "unfair_plot = unfair_plot[['Counts', 'labels']]\n",
    "plt.bar(unfair_plot['labels'],unfair_plot['Counts'])\n",
    "plt.xticks(rotation='vertical');\n",
    "plt.title(\"Unfair Game Plot\");"
   ]
  },
  {
   "cell_type": "markdown",
   "id": "1b47f5b6-188d-4d24-9c2f-687b430e6624",
   "metadata": {},
   "source": [
    "## Scenario 3: A 6-sided die"
   ]
  },
  {
   "cell_type": "markdown",
   "id": "b0417019-528f-45df-b7c9-ff50e12bff84",
   "metadata": {},
   "source": [
    "---\n",
    "Create a \"die\" of letters from a to z with weights based on their frequency of usage."
   ]
  },
  {
   "cell_type": "code",
   "execution_count": 22,
   "id": "0a453300-4458-49eb-8669-983578db6813",
   "metadata": {
    "scrolled": true
   },
   "outputs": [],
   "source": [
    "letters = ['a','b','c','d','e','f','g','h','i','j','k','l','m','n','o','p',\n",
    "           'q','r','s','t','u','v','w','x','y','z']\n",
    "values = [8.4966, 2.0720, 4.5388, 3.3844, 11.1607, 1.8121, 2.4705, 3.0034, 7.5448, \n",
    "          0.1965, 1.1016, 5.4893, 3.0129, 6.6544, 7.1635, 3.1671, 0.1962, 7.5809, 5.7351,\n",
    "          6.9509, 3.6308, 1.0074, 1.2899, 0.2902, 1.7779, 0.2722]\n",
    "\n",
    "alphabet = Die(letters)\n",
    "for i in range(0,len(letters)):\n",
    "    alphabet.change_weight(letters[i], values[i])"
   ]
  },
  {
   "cell_type": "code",
   "execution_count": 23,
   "id": "b0268e59-a536-48ba-81f8-718e20b293d9",
   "metadata": {
    "tags": []
   },
   "outputs": [
    {
     "data": {
      "text/html": [
       "<div>\n",
       "<style scoped>\n",
       "    .dataframe tbody tr th:only-of-type {\n",
       "        vertical-align: middle;\n",
       "    }\n",
       "\n",
       "    .dataframe tbody tr th {\n",
       "        vertical-align: top;\n",
       "    }\n",
       "\n",
       "    .dataframe thead th {\n",
       "        text-align: right;\n",
       "    }\n",
       "</style>\n",
       "<table border=\"1\" class=\"dataframe\">\n",
       "  <thead>\n",
       "    <tr style=\"text-align: right;\">\n",
       "      <th></th>\n",
       "      <th>a</th>\n",
       "      <th>b</th>\n",
       "      <th>c</th>\n",
       "      <th>d</th>\n",
       "      <th>e</th>\n",
       "      <th>f</th>\n",
       "      <th>g</th>\n",
       "      <th>h</th>\n",
       "      <th>i</th>\n",
       "      <th>j</th>\n",
       "      <th>...</th>\n",
       "      <th>q</th>\n",
       "      <th>r</th>\n",
       "      <th>s</th>\n",
       "      <th>t</th>\n",
       "      <th>u</th>\n",
       "      <th>v</th>\n",
       "      <th>w</th>\n",
       "      <th>x</th>\n",
       "      <th>y</th>\n",
       "      <th>z</th>\n",
       "    </tr>\n",
       "  </thead>\n",
       "  <tbody>\n",
       "    <tr>\n",
       "      <th>Weight</th>\n",
       "      <td>8.4966</td>\n",
       "      <td>2.072</td>\n",
       "      <td>4.5388</td>\n",
       "      <td>3.3844</td>\n",
       "      <td>11.1607</td>\n",
       "      <td>1.8121</td>\n",
       "      <td>2.4705</td>\n",
       "      <td>3.0034</td>\n",
       "      <td>7.5448</td>\n",
       "      <td>0.1965</td>\n",
       "      <td>...</td>\n",
       "      <td>0.1962</td>\n",
       "      <td>7.5809</td>\n",
       "      <td>5.7351</td>\n",
       "      <td>6.9509</td>\n",
       "      <td>3.6308</td>\n",
       "      <td>1.0074</td>\n",
       "      <td>1.2899</td>\n",
       "      <td>0.2902</td>\n",
       "      <td>1.7779</td>\n",
       "      <td>0.2722</td>\n",
       "    </tr>\n",
       "  </tbody>\n",
       "</table>\n",
       "<p>1 rows × 26 columns</p>\n",
       "</div>"
      ],
      "text/plain": [
       "             a      b       c       d        e       f       g       h  \\\n",
       "Weight  8.4966  2.072  4.5388  3.3844  11.1607  1.8121  2.4705  3.0034   \n",
       "\n",
       "             i       j  ...       q       r       s       t       u       v  \\\n",
       "Weight  7.5448  0.1965  ...  0.1962  7.5809  5.7351  6.9509  3.6308  1.0074   \n",
       "\n",
       "             w       x       y       z  \n",
       "Weight  1.2899  0.2902  1.7779  0.2722  \n",
       "\n",
       "[1 rows x 26 columns]"
      ]
     },
     "execution_count": 23,
     "metadata": {},
     "output_type": "execute_result"
    }
   ],
   "source": [
    "alphabet.show().T"
   ]
  },
  {
   "cell_type": "markdown",
   "id": "720dfdec-a46b-4a42-94a9-e4ca775490b4",
   "metadata": {},
   "source": [
    "---\n",
    "Play a game involving 5 of these dice with 1000 rolls."
   ]
  },
  {
   "cell_type": "code",
   "execution_count": 24,
   "id": "f788042b-5c16-4176-a0f2-eaeb81ea5845",
   "metadata": {
    "scrolled": true
   },
   "outputs": [],
   "source": [
    "alphabet_game = Game([alphabet, alphabet, alphabet, alphabet, alphabet])\n",
    "alphabet_game.play(1000)"
   ]
  },
  {
   "cell_type": "code",
   "execution_count": 25,
   "id": "53178a00-e249-4cb8-9f3e-29b7c2f82912",
   "metadata": {
    "scrolled": true
   },
   "outputs": [],
   "source": [
    "import pandas as pd\n",
    "pd.set_option('display.max_rows', 1000)"
   ]
  },
  {
   "cell_type": "markdown",
   "id": "193ffaa1-4524-48e4-a99a-86bdde9d0c53",
   "metadata": {},
   "source": [
    "---\n",
    "How many combos can you see that look like actual English words?"
   ]
  },
  {
   "cell_type": "markdown",
   "id": "493b8099-25a4-4cf6-b8a2-c67188f53954",
   "metadata": {},
   "source": [
    "I found the following words: teeny, saint, coder,  peeks, peel, terf, night. \\\n",
    "It appears that words with consecutive vowels, such as e's, are more common. "
   ]
  },
  {
   "cell_type": "code",
   "execution_count": 26,
   "id": "ccedab03-3678-4e02-8b87-a6c07eff0777",
   "metadata": {
    "tags": []
   },
   "outputs": [
    {
     "data": {
      "text/html": [
       "<div>\n",
       "<style scoped>\n",
       "    .dataframe tbody tr th:only-of-type {\n",
       "        vertical-align: middle;\n",
       "    }\n",
       "\n",
       "    .dataframe tbody tr th {\n",
       "        vertical-align: top;\n",
       "    }\n",
       "\n",
       "    .dataframe thead th {\n",
       "        text-align: right;\n",
       "    }\n",
       "</style>\n",
       "<table border=\"1\" class=\"dataframe\">\n",
       "  <thead>\n",
       "    <tr style=\"text-align: right;\">\n",
       "      <th>Roll</th>\n",
       "      <th>0</th>\n",
       "      <th>1</th>\n",
       "      <th>2</th>\n",
       "      <th>3</th>\n",
       "      <th>4</th>\n",
       "      <th>5</th>\n",
       "      <th>6</th>\n",
       "      <th>7</th>\n",
       "      <th>8</th>\n",
       "      <th>9</th>\n",
       "      <th>...</th>\n",
       "      <th>990</th>\n",
       "      <th>991</th>\n",
       "      <th>992</th>\n",
       "      <th>993</th>\n",
       "      <th>994</th>\n",
       "      <th>995</th>\n",
       "      <th>996</th>\n",
       "      <th>997</th>\n",
       "      <th>998</th>\n",
       "      <th>999</th>\n",
       "    </tr>\n",
       "    <tr>\n",
       "      <th>Die</th>\n",
       "      <th></th>\n",
       "      <th></th>\n",
       "      <th></th>\n",
       "      <th></th>\n",
       "      <th></th>\n",
       "      <th></th>\n",
       "      <th></th>\n",
       "      <th></th>\n",
       "      <th></th>\n",
       "      <th></th>\n",
       "      <th></th>\n",
       "      <th></th>\n",
       "      <th></th>\n",
       "      <th></th>\n",
       "      <th></th>\n",
       "      <th></th>\n",
       "      <th></th>\n",
       "      <th></th>\n",
       "      <th></th>\n",
       "      <th></th>\n",
       "      <th></th>\n",
       "    </tr>\n",
       "  </thead>\n",
       "  <tbody>\n",
       "    <tr>\n",
       "      <th>0</th>\n",
       "      <td>a</td>\n",
       "      <td>e</td>\n",
       "      <td>s</td>\n",
       "      <td>i</td>\n",
       "      <td>e</td>\n",
       "      <td>h</td>\n",
       "      <td>l</td>\n",
       "      <td>a</td>\n",
       "      <td>r</td>\n",
       "      <td>r</td>\n",
       "      <td>...</td>\n",
       "      <td>g</td>\n",
       "      <td>v</td>\n",
       "      <td>v</td>\n",
       "      <td>u</td>\n",
       "      <td>l</td>\n",
       "      <td>a</td>\n",
       "      <td>d</td>\n",
       "      <td>e</td>\n",
       "      <td>l</td>\n",
       "      <td>a</td>\n",
       "    </tr>\n",
       "    <tr>\n",
       "      <th>1</th>\n",
       "      <td>a</td>\n",
       "      <td>e</td>\n",
       "      <td>e</td>\n",
       "      <td>l</td>\n",
       "      <td>t</td>\n",
       "      <td>l</td>\n",
       "      <td>s</td>\n",
       "      <td>s</td>\n",
       "      <td>b</td>\n",
       "      <td>e</td>\n",
       "      <td>...</td>\n",
       "      <td>n</td>\n",
       "      <td>b</td>\n",
       "      <td>e</td>\n",
       "      <td>k</td>\n",
       "      <td>n</td>\n",
       "      <td>l</td>\n",
       "      <td>l</td>\n",
       "      <td>h</td>\n",
       "      <td>u</td>\n",
       "      <td>i</td>\n",
       "    </tr>\n",
       "    <tr>\n",
       "      <th>2</th>\n",
       "      <td>s</td>\n",
       "      <td>u</td>\n",
       "      <td>e</td>\n",
       "      <td>a</td>\n",
       "      <td>a</td>\n",
       "      <td>s</td>\n",
       "      <td>p</td>\n",
       "      <td>r</td>\n",
       "      <td>o</td>\n",
       "      <td>n</td>\n",
       "      <td>...</td>\n",
       "      <td>l</td>\n",
       "      <td>u</td>\n",
       "      <td>a</td>\n",
       "      <td>s</td>\n",
       "      <td>d</td>\n",
       "      <td>r</td>\n",
       "      <td>d</td>\n",
       "      <td>e</td>\n",
       "      <td>g</td>\n",
       "      <td>r</td>\n",
       "    </tr>\n",
       "    <tr>\n",
       "      <th>3</th>\n",
       "      <td>m</td>\n",
       "      <td>a</td>\n",
       "      <td>i</td>\n",
       "      <td>i</td>\n",
       "      <td>i</td>\n",
       "      <td>d</td>\n",
       "      <td>o</td>\n",
       "      <td>f</td>\n",
       "      <td>u</td>\n",
       "      <td>a</td>\n",
       "      <td>...</td>\n",
       "      <td>l</td>\n",
       "      <td>r</td>\n",
       "      <td>t</td>\n",
       "      <td>u</td>\n",
       "      <td>l</td>\n",
       "      <td>p</td>\n",
       "      <td>c</td>\n",
       "      <td>i</td>\n",
       "      <td>a</td>\n",
       "      <td>h</td>\n",
       "    </tr>\n",
       "    <tr>\n",
       "      <th>4</th>\n",
       "      <td>x</td>\n",
       "      <td>d</td>\n",
       "      <td>k</td>\n",
       "      <td>i</td>\n",
       "      <td>a</td>\n",
       "      <td>b</td>\n",
       "      <td>i</td>\n",
       "      <td>o</td>\n",
       "      <td>e</td>\n",
       "      <td>t</td>\n",
       "      <td>...</td>\n",
       "      <td>s</td>\n",
       "      <td>e</td>\n",
       "      <td>o</td>\n",
       "      <td>i</td>\n",
       "      <td>w</td>\n",
       "      <td>i</td>\n",
       "      <td>f</td>\n",
       "      <td>w</td>\n",
       "      <td>l</td>\n",
       "      <td>b</td>\n",
       "    </tr>\n",
       "  </tbody>\n",
       "</table>\n",
       "<p>5 rows × 1000 columns</p>\n",
       "</div>"
      ],
      "text/plain": [
       "Roll 0   1   2   3   4   5   6   7   8   9    ... 990 991 992 993 994 995 996  \\\n",
       "Die                                           ...                               \n",
       "0      a   e   s   i   e   h   l   a   r   r  ...   g   v   v   u   l   a   d   \n",
       "1      a   e   e   l   t   l   s   s   b   e  ...   n   b   e   k   n   l   l   \n",
       "2      s   u   e   a   a   s   p   r   o   n  ...   l   u   a   s   d   r   d   \n",
       "3      m   a   i   i   i   d   o   f   u   a  ...   l   r   t   u   l   p   c   \n",
       "4      x   d   k   i   a   b   i   o   e   t  ...   s   e   o   i   w   i   f   \n",
       "\n",
       "Roll 997 998 999  \n",
       "Die               \n",
       "0      e   l   a  \n",
       "1      h   u   i  \n",
       "2      e   g   r  \n",
       "3      i   a   h  \n",
       "4      w   l   b  \n",
       "\n",
       "[5 rows x 1000 columns]"
      ]
     },
     "execution_count": 26,
     "metadata": {},
     "output_type": "execute_result"
    }
   ],
   "source": [
    "alphabet_game.show().T # transposed to save space"
   ]
  },
  {
   "cell_type": "markdown",
   "id": "6ced706c-19e7-4e79-b171-bfb076f822b4",
   "metadata": {},
   "source": [
    "# Directory Listing\n",
    "\n",
    "A code block that executes the following bash command: \n",
    "\n",
    "```bash\n",
    "!ls -lRF -o\n",
    "```"
   ]
  },
  {
   "cell_type": "code",
   "execution_count": 27,
   "id": "5dbd35c2-e479-4179-b792-997d4293ba96",
   "metadata": {
    "tags": []
   },
   "outputs": [
    {
     "name": "stdout",
     "output_type": "stream",
     "text": [
      ".:\n",
      "total 205\n",
      "-rw-r--r-- 1 Tyv13 97709 Jul 15 10:34 FinalProjectSubmission.ipynb\n",
      "-rw-r--r-- 1 Tyv13  1095 Jul 13 22:05 LICENSE\n",
      "drwxr-xr-x 1 Tyv13     0 Jul 13 22:10 montecarlo/\n",
      "drwxr-xr-x 1 Tyv13     0 Jul 15 10:28 montecarlo.egg-info/\n",
      "-rw-r--r-- 1 Tyv13 77563 Jul 14 23:30 montecarlo_demo.ipynb\n",
      "-rw-r--r-- 1 Tyv13  4295 Jul 14 23:31 montecarlo_tests.py\n",
      "-rw-r--r-- 1 Tyv13   822 Jul 13 16:17 montecarlo_tests.txt\n",
      "-rw-r--r-- 1 Tyv13  6516 Jul 15 10:09 README.md\n",
      "-rw-r--r-- 1 Tyv13   347 Jul 13 22:05 setup.py\n",
      "\n",
      "./montecarlo:\n",
      "total 13\n",
      "-rw-r--r-- 1 Tyv13   53 Jul 13 22:15 __init__.py\n",
      "drwxr-xr-x 1 Tyv13    0 Jul 15 09:04 __pycache__/\n",
      "-rw-r--r-- 1 Tyv13 6989 Jul 15 09:02 montecarlo.py\n",
      "\n",
      "./montecarlo/__pycache__:\n",
      "total 9\n",
      "-rw-r--r-- 1 Tyv13  241 Jul 14 09:10 __init__.cpython-39.pyc\n",
      "-rw-r--r-- 1 Tyv13 5325 Jul 15 09:04 montecarlo.cpython-39.pyc\n",
      "\n",
      "./montecarlo.egg-info:\n",
      "total 4\n",
      "-rw-r--r-- 1 Tyv13   1 Jul 15 10:28 dependency_links.txt\n",
      "-rw-r--r-- 1 Tyv13 317 Jul 15 10:28 PKG-INFO\n",
      "-rw-r--r-- 1 Tyv13 210 Jul 15 10:28 SOURCES.txt\n",
      "-rw-r--r-- 1 Tyv13  11 Jul 15 10:28 top_level.txt\n"
     ]
    }
   ],
   "source": [
    "!ls -lRF -o"
   ]
  },
  {
   "cell_type": "markdown",
   "id": "c4df835c-3cd7-4c74-a4de-51638607680b",
   "metadata": {
    "tags": []
   },
   "source": [
    "# Installation Output Listing\n",
    "    \n",
    "A code block that executes the code to install your your package and outputs a successful installation."
   ]
  },
  {
   "cell_type": "code",
   "execution_count": 28,
   "id": "3609769a-c338-4746-8607-d124caf76ed8",
   "metadata": {
    "tags": []
   },
   "outputs": [
    {
     "name": "stdout",
     "output_type": "stream",
     "text": [
      "Obtaining file:///C:/Users/Tyv13/Desktop/Monte-Carlo-SimulatorNote: you may need to restart the kernel to use updated packages.\n",
      "\n",
      "Installing collected packages: montecarlo\n",
      "  Attempting uninstall: montecarlo\n",
      "    Found existing installation: montecarlo 1.0\n",
      "    Uninstalling montecarlo-1.0:\n",
      "      Successfully uninstalled montecarlo-1.0\n",
      "  Running setup.py develop for montecarlo\n",
      "Successfully installed montecarlo-1.0\n"
     ]
    }
   ],
   "source": [
    "pip install -e ."
   ]
  }
 ],
 "metadata": {
  "kernelspec": {
   "display_name": "Python 3 (ipykernel)",
   "language": "python",
   "name": "python3"
  },
  "language_info": {
   "codemirror_mode": {
    "name": "ipython",
    "version": 3
   },
   "file_extension": ".py",
   "mimetype": "text/x-python",
   "name": "python",
   "nbconvert_exporter": "python",
   "pygments_lexer": "ipython3",
   "version": "3.9.12"
  },
  "widgets": {
   "application/vnd.jupyter.widget-state+json": {
    "state": {},
    "version_major": 2,
    "version_minor": 0
   }
  }
 },
 "nbformat": 4,
 "nbformat_minor": 5
}
